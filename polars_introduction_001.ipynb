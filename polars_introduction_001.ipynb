{
  "nbformat": 4,
  "nbformat_minor": 0,
  "metadata": {
    "colab": {
      "provenance": [],
      "gpuType": "T4",
      "authorship_tag": "ABX9TyMY1nJkfVhOuuCs4COfXAIn",
      "include_colab_link": true
    },
    "kernelspec": {
      "name": "python3",
      "display_name": "Python 3"
    },
    "language_info": {
      "name": "python"
    },
    "accelerator": "GPU"
  },
  "cells": [
    {
      "cell_type": "markdown",
      "metadata": {
        "id": "view-in-github",
        "colab_type": "text"
      },
      "source": [
        "<a href=\"https://colab.research.google.com/github/gohengjin/ds_data_minpulation/blob/main/polars_introduction_001.ipynb\" target=\"_parent\"><img src=\"https://colab.research.google.com/assets/colab-badge.svg\" alt=\"Open In Colab\"/></a>"
      ]
    },
    {
      "cell_type": "code",
      "execution_count": 6,
      "metadata": {
        "colab": {
          "base_uri": "https://localhost:8080/"
        },
        "id": "RsN2SxNYbYuz",
        "outputId": "708b36e3-d2f5-479d-f29a-0b9c872d4950"
      },
      "outputs": [
        {
          "output_type": "stream",
          "name": "stdout",
          "text": [
            "Requirement already satisfied: polars in /usr/local/lib/python3.12/dist-packages (1.25.2)\n"
          ]
        }
      ],
      "source": [
        "! pip install polars"
      ]
    },
    {
      "cell_type": "code",
      "source": [
        "import polars as pl"
      ],
      "metadata": {
        "id": "B7AKX24EbvYP"
      },
      "execution_count": 7,
      "outputs": []
    },
    {
      "cell_type": "code",
      "source": [
        "pl.LazyFrame({\n",
        "    \"name\": [\"Batman\", \"Gandalf\"],\n",
        "    \"age\": [35, 55_000]\n",
        "}).collect()"
      ],
      "metadata": {
        "colab": {
          "base_uri": "https://localhost:8080/",
          "height": 159
        },
        "id": "s4ZI9EfOby-e",
        "outputId": "ed1c0deb-bdef-46dd-fe85-a8f8628b3ea3"
      },
      "execution_count": 8,
      "outputs": [
        {
          "output_type": "execute_result",
          "data": {
            "text/plain": [
              "shape: (2, 2)\n",
              "┌─────────┬───────┐\n",
              "│ name    ┆ age   │\n",
              "│ ---     ┆ ---   │\n",
              "│ str     ┆ i64   │\n",
              "╞═════════╪═══════╡\n",
              "│ Batman  ┆ 35    │\n",
              "│ Gandalf ┆ 55000 │\n",
              "└─────────┴───────┘"
            ],
            "text/html": [
              "<div><style>\n",
              ".dataframe > thead > tr,\n",
              ".dataframe > tbody > tr {\n",
              "  text-align: right;\n",
              "  white-space: pre-wrap;\n",
              "}\n",
              "</style>\n",
              "<small>shape: (2, 2)</small><table border=\"1\" class=\"dataframe\"><thead><tr><th>name</th><th>age</th></tr><tr><td>str</td><td>i64</td></tr></thead><tbody><tr><td>&quot;Batman&quot;</td><td>35</td></tr><tr><td>&quot;Gandalf&quot;</td><td>55000</td></tr></tbody></table></div>"
            ]
          },
          "metadata": {},
          "execution_count": 8
        }
      ]
    },
    {
      "cell_type": "code",
      "source": [
        "type(pl.LazyFrame({\n",
        "    \"name\": [\"Batman\", \"Gandalf\"],\n",
        "    \"age\": [35, 55_000]\n",
        "}))"
      ],
      "metadata": {
        "colab": {
          "base_uri": "https://localhost:8080/",
          "height": 220
        },
        "id": "fhz33DkIcIXl",
        "outputId": "4897e43a-9267-408b-f184-571722c2bc96"
      },
      "execution_count": 9,
      "outputs": [
        {
          "output_type": "execute_result",
          "data": {
            "text/plain": [
              "polars.lazyframe.frame.LazyFrame"
            ],
            "text/html": [
              "<div style=\"max-width:800px; border: 1px solid var(--colab-border-color);\"><style>\n",
              "      pre.function-repr-contents {\n",
              "        overflow-x: auto;\n",
              "        padding: 8px 12px;\n",
              "        max-height: 500px;\n",
              "      }\n",
              "\n",
              "      pre.function-repr-contents.function-repr-contents-collapsed {\n",
              "        cursor: pointer;\n",
              "        max-height: 100px;\n",
              "      }\n",
              "    </style>\n",
              "    <pre style=\"white-space: initial; background:\n",
              "         var(--colab-secondary-surface-color); padding: 8px 12px;\n",
              "         border-bottom: 1px solid var(--colab-border-color);\"><b>polars.lazyframe.frame.LazyFrame</b><br/>def __init__(data: FrameInitTypes | None=None, schema: SchemaDefinition | None=None, *, schema_overrides: SchemaDict | None=None, strict: bool=True, orient: Orientation | None=None, infer_schema_length: int | None=N_INFER_DEFAULT, nan_to_null: bool=False) -&gt; None</pre><pre class=\"function-repr-contents function-repr-contents-collapsed\" style=\"\"><a class=\"filepath\" style=\"display:none\" href=\"#\">/usr/local/lib/python3.12/dist-packages/polars/lazyframe/frame.py</a>Representation of a Lazy computation graph/query against a DataFrame.\n",
              "\n",
              "This allows for whole-query optimisation in addition to parallelism, and\n",
              "is the preferred (and highest-performance) mode of operation for polars.\n",
              "\n",
              "Parameters\n",
              "----------\n",
              "data : dict, Sequence, ndarray, Series, or pandas.DataFrame\n",
              "    Two-dimensional data in various forms; dict input must contain Sequences,\n",
              "    Generators, or a `range`. Sequence may contain Series or other Sequences.\n",
              "schema : Sequence of str, (str,DataType) pairs, or a {str:DataType,} dict\n",
              "    The LazyFrame schema may be declared in several ways:\n",
              "\n",
              "    * As a dict of {name:type} pairs; if type is None, it will be auto-inferred.\n",
              "    * As a list of column names; in this case types are automatically inferred.\n",
              "    * As a list of (name,type) pairs; this is equivalent to the dictionary form.\n",
              "\n",
              "    If you supply a list of column names that does not match the names in the\n",
              "    underlying data, the names given here will overwrite them. The number\n",
              "    of names given in the schema should match the underlying data dimensions.\n",
              "schema_overrides : dict, default None\n",
              "    Support type specification or override of one or more columns; note that\n",
              "    any dtypes inferred from the schema param will be overridden.\n",
              "\n",
              "    The number of entries in the schema should match the underlying data\n",
              "    dimensions, unless a sequence of dictionaries is being passed, in which case\n",
              "    a *partial* schema can be declared to prevent specific fields from being loaded.\n",
              "strict : bool, default True\n",
              "    Throw an error if any `data` value does not exactly match the given or inferred\n",
              "    data type for that column. If set to `False`, values that do not match the data\n",
              "    type are cast to that data type or, if casting is not possible, set to null\n",
              "    instead.\n",
              "orient : {&#x27;col&#x27;, &#x27;row&#x27;}, default None\n",
              "    Whether to interpret two-dimensional data as columns or as rows. If None,\n",
              "    the orientation is inferred by matching the columns and data dimensions. If\n",
              "    this does not yield conclusive results, column orientation is used.\n",
              "infer_schema_length : int or None\n",
              "    The maximum number of rows to scan for schema inference. If set to `None`, the\n",
              "    full data may be scanned *(this can be slow)*. This parameter only applies if\n",
              "    the input data is a sequence or generator of rows; other input is read as-is.\n",
              "nan_to_null : bool, default False\n",
              "    If the data comes from one or more numpy arrays, can optionally convert input\n",
              "    data np.nan values to null instead. This is a no-op for all other input data.\n",
              "\n",
              "Notes\n",
              "-----\n",
              "Initialising `LazyFrame(...)` directly is equivalent to `DataFrame(...).lazy()`.\n",
              "\n",
              "Examples\n",
              "--------\n",
              "Constructing a LazyFrame directly from a dictionary:\n",
              "\n",
              "&gt;&gt;&gt; data = {&quot;a&quot;: [1, 2], &quot;b&quot;: [3, 4]}\n",
              "&gt;&gt;&gt; lf = pl.LazyFrame(data)\n",
              "&gt;&gt;&gt; lf.collect()\n",
              "shape: (2, 2)\n",
              "┌─────┬─────┐\n",
              "│ a   ┆ b   │\n",
              "│ --- ┆ --- │\n",
              "│ i64 ┆ i64 │\n",
              "╞═════╪═════╡\n",
              "│ 1   ┆ 3   │\n",
              "│ 2   ┆ 4   │\n",
              "└─────┴─────┘\n",
              "\n",
              "Notice that the dtypes are automatically inferred as Polars Int64:\n",
              "\n",
              "&gt;&gt;&gt; lf.collect_schema().dtypes()\n",
              "[Int64, Int64]\n",
              "\n",
              "To specify a more detailed/specific frame schema you can supply the `schema`\n",
              "parameter with a dictionary of (name,dtype) pairs...\n",
              "\n",
              "&gt;&gt;&gt; data = {&quot;col1&quot;: [0, 2], &quot;col2&quot;: [3, 7]}\n",
              "&gt;&gt;&gt; lf2 = pl.LazyFrame(data, schema={&quot;col1&quot;: pl.Float32, &quot;col2&quot;: pl.Int64})\n",
              "&gt;&gt;&gt; lf2.collect()\n",
              "shape: (2, 2)\n",
              "┌──────┬──────┐\n",
              "│ col1 ┆ col2 │\n",
              "│ ---  ┆ ---  │\n",
              "│ f32  ┆ i64  │\n",
              "╞══════╪══════╡\n",
              "│ 0.0  ┆ 3    │\n",
              "│ 2.0  ┆ 7    │\n",
              "└──────┴──────┘\n",
              "\n",
              "...a sequence of (name,dtype) pairs...\n",
              "\n",
              "&gt;&gt;&gt; data = {&quot;col1&quot;: [1, 2], &quot;col2&quot;: [3, 4]}\n",
              "&gt;&gt;&gt; lf3 = pl.LazyFrame(data, schema=[(&quot;col1&quot;, pl.Float32), (&quot;col2&quot;, pl.Int64)])\n",
              "&gt;&gt;&gt; lf3.collect()\n",
              "shape: (2, 2)\n",
              "┌──────┬──────┐\n",
              "│ col1 ┆ col2 │\n",
              "│ ---  ┆ ---  │\n",
              "│ f32  ┆ i64  │\n",
              "╞══════╪══════╡\n",
              "│ 1.0  ┆ 3    │\n",
              "│ 2.0  ┆ 4    │\n",
              "└──────┴──────┘\n",
              "\n",
              "...or a list of typed Series.\n",
              "\n",
              "&gt;&gt;&gt; data = [\n",
              "...     pl.Series(&quot;col1&quot;, [1, 2], dtype=pl.Float32),\n",
              "...     pl.Series(&quot;col2&quot;, [3, 4], dtype=pl.Int64),\n",
              "... ]\n",
              "&gt;&gt;&gt; lf4 = pl.LazyFrame(data)\n",
              "&gt;&gt;&gt; lf4.collect()\n",
              "shape: (2, 2)\n",
              "┌──────┬──────┐\n",
              "│ col1 ┆ col2 │\n",
              "│ ---  ┆ ---  │\n",
              "│ f32  ┆ i64  │\n",
              "╞══════╪══════╡\n",
              "│ 1.0  ┆ 3    │\n",
              "│ 2.0  ┆ 4    │\n",
              "└──────┴──────┘\n",
              "\n",
              "Constructing a LazyFrame from a numpy ndarray, specifying column names:\n",
              "\n",
              "&gt;&gt;&gt; import numpy as np\n",
              "&gt;&gt;&gt; data = np.array([(1, 2), (3, 4)], dtype=np.int64)\n",
              "&gt;&gt;&gt; lf5 = pl.LazyFrame(data, schema=[&quot;a&quot;, &quot;b&quot;], orient=&quot;col&quot;)\n",
              "&gt;&gt;&gt; lf5.collect()\n",
              "shape: (2, 2)\n",
              "┌─────┬─────┐\n",
              "│ a   ┆ b   │\n",
              "│ --- ┆ --- │\n",
              "│ i64 ┆ i64 │\n",
              "╞═════╪═════╡\n",
              "│ 1   ┆ 3   │\n",
              "│ 2   ┆ 4   │\n",
              "└─────┴─────┘\n",
              "\n",
              "Constructing a LazyFrame from a list of lists, row orientation specified:\n",
              "\n",
              "&gt;&gt;&gt; data = [[1, 2, 3], [4, 5, 6]]\n",
              "&gt;&gt;&gt; lf6 = pl.LazyFrame(data, schema=[&quot;a&quot;, &quot;b&quot;, &quot;c&quot;], orient=&quot;row&quot;)\n",
              "&gt;&gt;&gt; lf6.collect()\n",
              "shape: (2, 3)\n",
              "┌─────┬─────┬─────┐\n",
              "│ a   ┆ b   ┆ c   │\n",
              "│ --- ┆ --- ┆ --- │\n",
              "│ i64 ┆ i64 ┆ i64 │\n",
              "╞═════╪═════╪═════╡\n",
              "│ 1   ┆ 2   ┆ 3   │\n",
              "│ 4   ┆ 5   ┆ 6   │\n",
              "└─────┴─────┴─────┘</pre>\n",
              "      <script>\n",
              "      if (google.colab.kernel.accessAllowed && google.colab.files && google.colab.files.view) {\n",
              "        for (const element of document.querySelectorAll('.filepath')) {\n",
              "          element.style.display = 'block'\n",
              "          element.onclick = (event) => {\n",
              "            event.preventDefault();\n",
              "            event.stopPropagation();\n",
              "            google.colab.files.view(element.textContent, 200);\n",
              "          };\n",
              "        }\n",
              "      }\n",
              "      for (const element of document.querySelectorAll('.function-repr-contents')) {\n",
              "        element.onclick = (event) => {\n",
              "          event.preventDefault();\n",
              "          event.stopPropagation();\n",
              "          element.classList.toggle('function-repr-contents-collapsed');\n",
              "        };\n",
              "      }\n",
              "      </script>\n",
              "      </div>"
            ]
          },
          "metadata": {},
          "execution_count": 9
        }
      ]
    },
    {
      "cell_type": "code",
      "source": [
        "type(pl.LazyFrame({\n",
        "    \"name\": [\"Batman\", \"Gandalf\"],\n",
        "    \"age\": [35, 55_000]\n",
        "}).collect())"
      ],
      "metadata": {
        "colab": {
          "base_uri": "https://localhost:8080/",
          "height": 220
        },
        "id": "_OC0MQOIcig9",
        "outputId": "da65b4e6-df2f-4bd0-d5e7-2edb3558fbd9"
      },
      "execution_count": 10,
      "outputs": [
        {
          "output_type": "execute_result",
          "data": {
            "text/plain": [
              "polars.dataframe.frame.DataFrame"
            ],
            "text/html": [
              "<div style=\"max-width:800px; border: 1px solid var(--colab-border-color);\"><style>\n",
              "      pre.function-repr-contents {\n",
              "        overflow-x: auto;\n",
              "        padding: 8px 12px;\n",
              "        max-height: 500px;\n",
              "      }\n",
              "\n",
              "      pre.function-repr-contents.function-repr-contents-collapsed {\n",
              "        cursor: pointer;\n",
              "        max-height: 100px;\n",
              "      }\n",
              "    </style>\n",
              "    <pre style=\"white-space: initial; background:\n",
              "         var(--colab-secondary-surface-color); padding: 8px 12px;\n",
              "         border-bottom: 1px solid var(--colab-border-color);\"><b>polars.dataframe.frame.DataFrame</b><br/>def __init__(data: FrameInitTypes | None=None, schema: SchemaDefinition | None=None, *, schema_overrides: SchemaDict | None=None, strict: bool=True, orient: Orientation | None=None, infer_schema_length: int | None=N_INFER_DEFAULT, nan_to_null: bool=False) -&gt; None</pre><pre class=\"function-repr-contents function-repr-contents-collapsed\" style=\"\"><a class=\"filepath\" style=\"display:none\" href=\"#\">/usr/local/lib/python3.12/dist-packages/polars/dataframe/frame.py</a>Two-dimensional data structure representing data as a table with rows and columns.\n",
              "\n",
              "Parameters\n",
              "----------\n",
              "data : dict, Sequence, ndarray, Series, or pandas.DataFrame\n",
              "    Two-dimensional data in various forms; dict input must contain Sequences,\n",
              "    Generators, or a `range`. Sequence may contain Series or other Sequences.\n",
              "schema : Sequence of str, (str,DataType) pairs, or a {str:DataType,} dict\n",
              "    The schema of the resulting DataFrame. The schema may be declared in several\n",
              "    ways:\n",
              "\n",
              "    * As a dict of {name:type} pairs; if type is None, it will be auto-inferred.\n",
              "    * As a list of column names; in this case types are automatically inferred.\n",
              "    * As a list of (name,type) pairs; this is equivalent to the dictionary form.\n",
              "\n",
              "    If you supply a list of column names that does not match the names in the\n",
              "    underlying data, the names given here will overwrite them. The number\n",
              "    of names given in the schema should match the underlying data dimensions.\n",
              "\n",
              "    If set to `None` (default), the schema is inferred from the data.\n",
              "schema_overrides : dict, default None\n",
              "    Support type specification or override of one or more columns; note that\n",
              "    any dtypes inferred from the schema param will be overridden.\n",
              "\n",
              "    The number of entries in the schema should match the underlying data\n",
              "    dimensions, unless a sequence of dictionaries is being passed, in which case\n",
              "    a *partial* schema can be declared to prevent specific fields from being loaded.\n",
              "strict : bool, default True\n",
              "    Throw an error if any `data` value does not exactly match the given or inferred\n",
              "    data type for that column. If set to `False`, values that do not match the data\n",
              "    type are cast to that data type or, if casting is not possible, set to null\n",
              "    instead.\n",
              "orient : {&#x27;col&#x27;, &#x27;row&#x27;}, default None\n",
              "    Whether to interpret two-dimensional data as columns or as rows. If None,\n",
              "    the orientation is inferred by matching the columns and data dimensions. If\n",
              "    this does not yield conclusive results, column orientation is used.\n",
              "infer_schema_length : int or None\n",
              "    The maximum number of rows to scan for schema inference. If set to `None`, the\n",
              "    full data may be scanned *(this can be slow)*. This parameter only applies if\n",
              "    the input data is a sequence or generator of rows; other input is read as-is.\n",
              "nan_to_null : bool, default False\n",
              "    If the data comes from one or more numpy arrays, can optionally convert input\n",
              "    data np.nan values to null instead. This is a no-op for all other input data.\n",
              "\n",
              "Notes\n",
              "-----\n",
              "Polars explicitly does not support subclassing of its core data types. See\n",
              "the following GitHub issue for possible workarounds:\n",
              "https://github.com/pola-rs/polars/issues/2846#issuecomment-1711799869\n",
              "\n",
              "Examples\n",
              "--------\n",
              "Constructing a DataFrame from a dictionary:\n",
              "\n",
              "&gt;&gt;&gt; data = {&quot;a&quot;: [1, 2], &quot;b&quot;: [3, 4]}\n",
              "&gt;&gt;&gt; df = pl.DataFrame(data)\n",
              "&gt;&gt;&gt; df\n",
              "shape: (2, 2)\n",
              "┌─────┬─────┐\n",
              "│ a   ┆ b   │\n",
              "│ --- ┆ --- │\n",
              "│ i64 ┆ i64 │\n",
              "╞═════╪═════╡\n",
              "│ 1   ┆ 3   │\n",
              "│ 2   ┆ 4   │\n",
              "└─────┴─────┘\n",
              "\n",
              "Notice that the dtypes are automatically inferred as polars Int64:\n",
              "\n",
              "&gt;&gt;&gt; df.dtypes\n",
              "[Int64, Int64]\n",
              "\n",
              "To specify a more detailed/specific frame schema you can supply the `schema`\n",
              "parameter with a dictionary of (name,dtype) pairs...\n",
              "\n",
              "&gt;&gt;&gt; data = {&quot;col1&quot;: [0, 2], &quot;col2&quot;: [3, 7]}\n",
              "&gt;&gt;&gt; df2 = pl.DataFrame(data, schema={&quot;col1&quot;: pl.Float32, &quot;col2&quot;: pl.Int64})\n",
              "&gt;&gt;&gt; df2\n",
              "shape: (2, 2)\n",
              "┌──────┬──────┐\n",
              "│ col1 ┆ col2 │\n",
              "│ ---  ┆ ---  │\n",
              "│ f32  ┆ i64  │\n",
              "╞══════╪══════╡\n",
              "│ 0.0  ┆ 3    │\n",
              "│ 2.0  ┆ 7    │\n",
              "└──────┴──────┘\n",
              "\n",
              "...a sequence of (name,dtype) pairs...\n",
              "\n",
              "&gt;&gt;&gt; data = {&quot;col1&quot;: [1, 2], &quot;col2&quot;: [3, 4]}\n",
              "&gt;&gt;&gt; df3 = pl.DataFrame(data, schema=[(&quot;col1&quot;, pl.Float32), (&quot;col2&quot;, pl.Int64)])\n",
              "&gt;&gt;&gt; df3\n",
              "shape: (2, 2)\n",
              "┌──────┬──────┐\n",
              "│ col1 ┆ col2 │\n",
              "│ ---  ┆ ---  │\n",
              "│ f32  ┆ i64  │\n",
              "╞══════╪══════╡\n",
              "│ 1.0  ┆ 3    │\n",
              "│ 2.0  ┆ 4    │\n",
              "└──────┴──────┘\n",
              "\n",
              "...or a list of typed Series.\n",
              "\n",
              "&gt;&gt;&gt; data = [\n",
              "...     pl.Series(&quot;col1&quot;, [1, 2], dtype=pl.Float32),\n",
              "...     pl.Series(&quot;col2&quot;, [3, 4], dtype=pl.Int64),\n",
              "... ]\n",
              "&gt;&gt;&gt; df4 = pl.DataFrame(data)\n",
              "&gt;&gt;&gt; df4\n",
              "shape: (2, 2)\n",
              "┌──────┬──────┐\n",
              "│ col1 ┆ col2 │\n",
              "│ ---  ┆ ---  │\n",
              "│ f32  ┆ i64  │\n",
              "╞══════╪══════╡\n",
              "│ 1.0  ┆ 3    │\n",
              "│ 2.0  ┆ 4    │\n",
              "└──────┴──────┘\n",
              "\n",
              "Constructing a DataFrame from a numpy ndarray, specifying column names:\n",
              "\n",
              "&gt;&gt;&gt; import numpy as np\n",
              "&gt;&gt;&gt; data = np.array([(1, 2), (3, 4)], dtype=np.int64)\n",
              "&gt;&gt;&gt; df5 = pl.DataFrame(data, schema=[&quot;a&quot;, &quot;b&quot;], orient=&quot;col&quot;)\n",
              "&gt;&gt;&gt; df5\n",
              "shape: (2, 2)\n",
              "┌─────┬─────┐\n",
              "│ a   ┆ b   │\n",
              "│ --- ┆ --- │\n",
              "│ i64 ┆ i64 │\n",
              "╞═════╪═════╡\n",
              "│ 1   ┆ 3   │\n",
              "│ 2   ┆ 4   │\n",
              "└─────┴─────┘\n",
              "\n",
              "Constructing a DataFrame from a list of lists, row orientation specified:\n",
              "\n",
              "&gt;&gt;&gt; data = [[1, 2, 3], [4, 5, 6]]\n",
              "&gt;&gt;&gt; df6 = pl.DataFrame(data, schema=[&quot;a&quot;, &quot;b&quot;, &quot;c&quot;], orient=&quot;row&quot;)\n",
              "&gt;&gt;&gt; df6\n",
              "shape: (2, 3)\n",
              "┌─────┬─────┬─────┐\n",
              "│ a   ┆ b   ┆ c   │\n",
              "│ --- ┆ --- ┆ --- │\n",
              "│ i64 ┆ i64 ┆ i64 │\n",
              "╞═════╪═════╪═════╡\n",
              "│ 1   ┆ 2   ┆ 3   │\n",
              "│ 4   ┆ 5   ┆ 6   │\n",
              "└─────┴─────┴─────┘</pre>\n",
              "      <script>\n",
              "      if (google.colab.kernel.accessAllowed && google.colab.files && google.colab.files.view) {\n",
              "        for (const element of document.querySelectorAll('.filepath')) {\n",
              "          element.style.display = 'block'\n",
              "          element.onclick = (event) => {\n",
              "            event.preventDefault();\n",
              "            event.stopPropagation();\n",
              "            google.colab.files.view(element.textContent, 183);\n",
              "          };\n",
              "        }\n",
              "      }\n",
              "      for (const element of document.querySelectorAll('.function-repr-contents')) {\n",
              "        element.onclick = (event) => {\n",
              "          event.preventDefault();\n",
              "          event.stopPropagation();\n",
              "          element.classList.toggle('function-repr-contents-collapsed');\n",
              "        };\n",
              "      }\n",
              "      </script>\n",
              "      </div>"
            ]
          },
          "metadata": {},
          "execution_count": 10
        }
      ]
    },
    {
      "cell_type": "code",
      "source": [
        "(\n",
        "    pl.LazyFrame({\n",
        "        \"name\": [\"Batman\", \"Gandalf\"],\n",
        "        \"age\": [35, 55_000]\n",
        "        })\n",
        "    .filter(pl.col(\"age\") > 100)\n",
        "    .collect()\n",
        ")\n"
      ],
      "metadata": {
        "colab": {
          "base_uri": "https://localhost:8080/",
          "height": 128
        },
        "id": "iFZpx8F1ctId",
        "outputId": "58c88456-b630-4c62-f27a-95d3d6bf5af6"
      },
      "execution_count": 11,
      "outputs": [
        {
          "output_type": "execute_result",
          "data": {
            "text/plain": [
              "shape: (1, 2)\n",
              "┌─────────┬───────┐\n",
              "│ name    ┆ age   │\n",
              "│ ---     ┆ ---   │\n",
              "│ str     ┆ i64   │\n",
              "╞═════════╪═══════╡\n",
              "│ Gandalf ┆ 55000 │\n",
              "└─────────┴───────┘"
            ],
            "text/html": [
              "<div><style>\n",
              ".dataframe > thead > tr,\n",
              ".dataframe > tbody > tr {\n",
              "  text-align: right;\n",
              "  white-space: pre-wrap;\n",
              "}\n",
              "</style>\n",
              "<small>shape: (1, 2)</small><table border=\"1\" class=\"dataframe\"><thead><tr><th>name</th><th>age</th></tr><tr><td>str</td><td>i64</td></tr></thead><tbody><tr><td>&quot;Gandalf&quot;</td><td>55000</td></tr></tbody></table></div>"
            ]
          },
          "metadata": {},
          "execution_count": 11
        }
      ]
    },
    {
      "cell_type": "code",
      "source": [
        "(\n",
        "    pl.LazyFrame({\n",
        "        \"name\": [\"Batman\", \"Gandalf\"],\n",
        "        \"age\": [35, 55_000]\n",
        "        })\n",
        "    .select(pl.col(\"age\"))\n",
        "    .sum()\n",
        "    .collect()\n",
        ")"
      ],
      "metadata": {
        "colab": {
          "base_uri": "https://localhost:8080/",
          "height": 128
        },
        "id": "W45yy0YMdpxi",
        "outputId": "8ece1b9a-0e9b-47d0-80bd-d1d1c1921288"
      },
      "execution_count": 12,
      "outputs": [
        {
          "output_type": "execute_result",
          "data": {
            "text/plain": [
              "shape: (1, 1)\n",
              "┌───────┐\n",
              "│ age   │\n",
              "│ ---   │\n",
              "│ i64   │\n",
              "╞═══════╡\n",
              "│ 55035 │\n",
              "└───────┘"
            ],
            "text/html": [
              "<div><style>\n",
              ".dataframe > thead > tr,\n",
              ".dataframe > tbody > tr {\n",
              "  text-align: right;\n",
              "  white-space: pre-wrap;\n",
              "}\n",
              "</style>\n",
              "<small>shape: (1, 1)</small><table border=\"1\" class=\"dataframe\"><thead><tr><th>age</th></tr><tr><td>i64</td></tr></thead><tbody><tr><td>55035</td></tr></tbody></table></div>"
            ]
          },
          "metadata": {},
          "execution_count": 12
        }
      ]
    },
    {
      "cell_type": "code",
      "source": [
        "!pip install polars[gpu] --extra-index-url=https://pypi.nvidia.com"
      ],
      "metadata": {
        "colab": {
          "base_uri": "https://localhost:8080/"
        },
        "id": "sx4lctBSd9wN",
        "outputId": "693db5f6-2a49-4e01-c445-0c6889053f31"
      },
      "execution_count": 13,
      "outputs": [
        {
          "output_type": "stream",
          "name": "stdout",
          "text": [
            "Looking in indexes: https://pypi.org/simple, https://pypi.nvidia.com\n",
            "Requirement already satisfied: polars[gpu] in /usr/local/lib/python3.12/dist-packages (1.25.2)\n",
            "Requirement already satisfied: cudf-polars-cu12 in /usr/local/lib/python3.12/dist-packages (from polars[gpu]) (25.6.0)\n",
            "Requirement already satisfied: pylibcudf-cu12==25.6.* in /usr/local/lib/python3.12/dist-packages (from cudf-polars-cu12->polars[gpu]) (25.6.0)\n",
            "Requirement already satisfied: cuda-python<13.0a0,>=12.6.2 in /usr/local/lib/python3.12/dist-packages (from pylibcudf-cu12==25.6.*->cudf-polars-cu12->polars[gpu]) (12.6.2.post1)\n",
            "Requirement already satisfied: libcudf-cu12==25.6.* in /usr/local/lib/python3.12/dist-packages (from pylibcudf-cu12==25.6.*->cudf-polars-cu12->polars[gpu]) (25.6.0)\n",
            "Requirement already satisfied: nvtx>=0.2.1 in /usr/local/lib/python3.12/dist-packages (from pylibcudf-cu12==25.6.*->cudf-polars-cu12->polars[gpu]) (0.2.13)\n",
            "Requirement already satisfied: packaging in /usr/local/lib/python3.12/dist-packages (from pylibcudf-cu12==25.6.*->cudf-polars-cu12->polars[gpu]) (25.0)\n",
            "Requirement already satisfied: pyarrow<20.0.0a0,>=14.0.0 in /usr/local/lib/python3.12/dist-packages (from pylibcudf-cu12==25.6.*->cudf-polars-cu12->polars[gpu]) (18.1.0)\n",
            "Requirement already satisfied: rmm-cu12==25.6.* in /usr/local/lib/python3.12/dist-packages (from pylibcudf-cu12==25.6.*->cudf-polars-cu12->polars[gpu]) (25.6.0)\n",
            "Requirement already satisfied: typing_extensions>=4.0.0 in /usr/local/lib/python3.12/dist-packages (from pylibcudf-cu12==25.6.*->cudf-polars-cu12->polars[gpu]) (4.14.1)\n",
            "Requirement already satisfied: libkvikio-cu12==25.6.* in /usr/local/lib/python3.12/dist-packages (from libcudf-cu12==25.6.*->pylibcudf-cu12==25.6.*->cudf-polars-cu12->polars[gpu]) (25.6.0)\n",
            "Requirement already satisfied: librmm-cu12==25.6.* in /usr/local/lib/python3.12/dist-packages (from libcudf-cu12==25.6.*->pylibcudf-cu12==25.6.*->cudf-polars-cu12->polars[gpu]) (25.6.0)\n",
            "Requirement already satisfied: rapids-logger==0.1.* in /usr/local/lib/python3.12/dist-packages (from libcudf-cu12==25.6.*->pylibcudf-cu12==25.6.*->cudf-polars-cu12->polars[gpu]) (0.1.1)\n",
            "Requirement already satisfied: numpy<3.0a0,>=1.23 in /usr/local/lib/python3.12/dist-packages (from rmm-cu12==25.6.*->pylibcudf-cu12==25.6.*->cudf-polars-cu12->polars[gpu]) (2.0.2)\n"
          ]
        }
      ]
    },
    {
      "cell_type": "code",
      "source": [
        "import polars as pl\n",
        "(\n",
        "    pl.LazyFrame({\n",
        "        \"name\": [\"Batman\", \"Gandalf\"],\n",
        "        \"age\": [35, 55_000]\n",
        "        })\n",
        "    .select(pl.col(\"age\"))\n",
        "    .sum()\n",
        "    .collect(engine=\"gpu\")\n",
        ")"
      ],
      "metadata": {
        "colab": {
          "base_uri": "https://localhost:8080/",
          "height": 128
        },
        "id": "33sRG0sleLKk",
        "outputId": "0dcf5fe5-e65b-4a22-c4ef-cc50dbf63f49"
      },
      "execution_count": 14,
      "outputs": [
        {
          "output_type": "execute_result",
          "data": {
            "text/plain": [
              "shape: (1, 1)\n",
              "┌───────┐\n",
              "│ age   │\n",
              "│ ---   │\n",
              "│ i64   │\n",
              "╞═══════╡\n",
              "│ 55035 │\n",
              "└───────┘"
            ],
            "text/html": [
              "<div><style>\n",
              ".dataframe > thead > tr,\n",
              ".dataframe > tbody > tr {\n",
              "  text-align: right;\n",
              "  white-space: pre-wrap;\n",
              "}\n",
              "</style>\n",
              "<small>shape: (1, 1)</small><table border=\"1\" class=\"dataframe\"><thead><tr><th>age</th></tr><tr><td>i64</td></tr></thead><tbody><tr><td>55035</td></tr></tbody></table></div>"
            ]
          },
          "metadata": {},
          "execution_count": 14
        }
      ]
    },
    {
      "cell_type": "code",
      "source": [
        "# import polars as pl\n",
        "\n",
        "# data = pl.scan_csv(\"transactions.csv\")\n",
        "# data.sink_parquet(\"transactions.parquet\")"
      ],
      "metadata": {
        "id": "D0dvBroJe0Iw"
      },
      "execution_count": 15,
      "outputs": []
    },
    {
      "cell_type": "code",
      "source": [
        "from google.colab import drive\n",
        "drive.mount('/polars-introduction_001')"
      ],
      "metadata": {
        "colab": {
          "base_uri": "https://localhost:8080/",
          "height": 299
        },
        "id": "TbIKDownip0z",
        "outputId": "d1a52340-06e0-4344-eb4d-b2d430e1397e"
      },
      "execution_count": 32,
      "outputs": [
        {
          "output_type": "error",
          "ename": "MessageError",
          "evalue": "Error: credential propagation was unsuccessful",
          "traceback": [
            "\u001b[0;31m---------------------------------------------------------------------------\u001b[0m",
            "\u001b[0;31mMessageError\u001b[0m                              Traceback (most recent call last)",
            "\u001b[0;32m/tmp/ipython-input-3942231412.py\u001b[0m in \u001b[0;36m<cell line: 0>\u001b[0;34m()\u001b[0m\n\u001b[1;32m      1\u001b[0m \u001b[0;32mfrom\u001b[0m \u001b[0mgoogle\u001b[0m\u001b[0;34m.\u001b[0m\u001b[0mcolab\u001b[0m \u001b[0;32mimport\u001b[0m \u001b[0mdrive\u001b[0m\u001b[0;34m\u001b[0m\u001b[0;34m\u001b[0m\u001b[0m\n\u001b[0;32m----> 2\u001b[0;31m \u001b[0mdrive\u001b[0m\u001b[0;34m.\u001b[0m\u001b[0mmount\u001b[0m\u001b[0;34m(\u001b[0m\u001b[0;34m'/polars-introduction_001'\u001b[0m\u001b[0;34m)\u001b[0m\u001b[0;34m\u001b[0m\u001b[0;34m\u001b[0m\u001b[0m\n\u001b[0m",
            "\u001b[0;32m/usr/local/lib/python3.12/dist-packages/google/colab/drive.py\u001b[0m in \u001b[0;36mmount\u001b[0;34m(mountpoint, force_remount, timeout_ms, readonly)\u001b[0m\n\u001b[1;32m     95\u001b[0m \u001b[0;32mdef\u001b[0m \u001b[0mmount\u001b[0m\u001b[0;34m(\u001b[0m\u001b[0mmountpoint\u001b[0m\u001b[0;34m,\u001b[0m \u001b[0mforce_remount\u001b[0m\u001b[0;34m=\u001b[0m\u001b[0;32mFalse\u001b[0m\u001b[0;34m,\u001b[0m \u001b[0mtimeout_ms\u001b[0m\u001b[0;34m=\u001b[0m\u001b[0;36m120000\u001b[0m\u001b[0;34m,\u001b[0m \u001b[0mreadonly\u001b[0m\u001b[0;34m=\u001b[0m\u001b[0;32mFalse\u001b[0m\u001b[0;34m)\u001b[0m\u001b[0;34m:\u001b[0m\u001b[0;34m\u001b[0m\u001b[0;34m\u001b[0m\u001b[0m\n\u001b[1;32m     96\u001b[0m   \u001b[0;34m\"\"\"Mount your Google Drive at the specified mountpoint path.\"\"\"\u001b[0m\u001b[0;34m\u001b[0m\u001b[0;34m\u001b[0m\u001b[0m\n\u001b[0;32m---> 97\u001b[0;31m   return _mount(\n\u001b[0m\u001b[1;32m     98\u001b[0m       \u001b[0mmountpoint\u001b[0m\u001b[0;34m,\u001b[0m\u001b[0;34m\u001b[0m\u001b[0;34m\u001b[0m\u001b[0m\n\u001b[1;32m     99\u001b[0m       \u001b[0mforce_remount\u001b[0m\u001b[0;34m=\u001b[0m\u001b[0mforce_remount\u001b[0m\u001b[0;34m,\u001b[0m\u001b[0;34m\u001b[0m\u001b[0;34m\u001b[0m\u001b[0m\n",
            "\u001b[0;32m/usr/local/lib/python3.12/dist-packages/google/colab/drive.py\u001b[0m in \u001b[0;36m_mount\u001b[0;34m(mountpoint, force_remount, timeout_ms, ephemeral, readonly)\u001b[0m\n\u001b[1;32m    132\u001b[0m   )\n\u001b[1;32m    133\u001b[0m   \u001b[0;32mif\u001b[0m \u001b[0mephemeral\u001b[0m\u001b[0;34m:\u001b[0m\u001b[0;34m\u001b[0m\u001b[0;34m\u001b[0m\u001b[0m\n\u001b[0;32m--> 134\u001b[0;31m     _message.blocking_request(\n\u001b[0m\u001b[1;32m    135\u001b[0m         \u001b[0;34m'request_auth'\u001b[0m\u001b[0;34m,\u001b[0m\u001b[0;34m\u001b[0m\u001b[0;34m\u001b[0m\u001b[0m\n\u001b[1;32m    136\u001b[0m         \u001b[0mrequest\u001b[0m\u001b[0;34m=\u001b[0m\u001b[0;34m{\u001b[0m\u001b[0;34m'authType'\u001b[0m\u001b[0;34m:\u001b[0m \u001b[0;34m'dfs_ephemeral'\u001b[0m\u001b[0;34m}\u001b[0m\u001b[0;34m,\u001b[0m\u001b[0;34m\u001b[0m\u001b[0;34m\u001b[0m\u001b[0m\n",
            "\u001b[0;32m/usr/local/lib/python3.12/dist-packages/google/colab/_message.py\u001b[0m in \u001b[0;36mblocking_request\u001b[0;34m(request_type, request, timeout_sec, parent)\u001b[0m\n\u001b[1;32m    174\u001b[0m       \u001b[0mrequest_type\u001b[0m\u001b[0;34m,\u001b[0m \u001b[0mrequest\u001b[0m\u001b[0;34m,\u001b[0m \u001b[0mparent\u001b[0m\u001b[0;34m=\u001b[0m\u001b[0mparent\u001b[0m\u001b[0;34m,\u001b[0m \u001b[0mexpect_reply\u001b[0m\u001b[0;34m=\u001b[0m\u001b[0;32mTrue\u001b[0m\u001b[0;34m\u001b[0m\u001b[0;34m\u001b[0m\u001b[0m\n\u001b[1;32m    175\u001b[0m   )\n\u001b[0;32m--> 176\u001b[0;31m   \u001b[0;32mreturn\u001b[0m \u001b[0mread_reply_from_input\u001b[0m\u001b[0;34m(\u001b[0m\u001b[0mrequest_id\u001b[0m\u001b[0;34m,\u001b[0m \u001b[0mtimeout_sec\u001b[0m\u001b[0;34m)\u001b[0m\u001b[0;34m\u001b[0m\u001b[0;34m\u001b[0m\u001b[0m\n\u001b[0m",
            "\u001b[0;32m/usr/local/lib/python3.12/dist-packages/google/colab/_message.py\u001b[0m in \u001b[0;36mread_reply_from_input\u001b[0;34m(message_id, timeout_sec)\u001b[0m\n\u001b[1;32m    101\u001b[0m     ):\n\u001b[1;32m    102\u001b[0m       \u001b[0;32mif\u001b[0m \u001b[0;34m'error'\u001b[0m \u001b[0;32min\u001b[0m \u001b[0mreply\u001b[0m\u001b[0;34m:\u001b[0m\u001b[0;34m\u001b[0m\u001b[0;34m\u001b[0m\u001b[0m\n\u001b[0;32m--> 103\u001b[0;31m         \u001b[0;32mraise\u001b[0m \u001b[0mMessageError\u001b[0m\u001b[0;34m(\u001b[0m\u001b[0mreply\u001b[0m\u001b[0;34m[\u001b[0m\u001b[0;34m'error'\u001b[0m\u001b[0;34m]\u001b[0m\u001b[0;34m)\u001b[0m\u001b[0;34m\u001b[0m\u001b[0;34m\u001b[0m\u001b[0m\n\u001b[0m\u001b[1;32m    104\u001b[0m       \u001b[0;32mreturn\u001b[0m \u001b[0mreply\u001b[0m\u001b[0;34m.\u001b[0m\u001b[0mget\u001b[0m\u001b[0;34m(\u001b[0m\u001b[0;34m'data'\u001b[0m\u001b[0;34m,\u001b[0m \u001b[0;32mNone\u001b[0m\u001b[0;34m)\u001b[0m\u001b[0;34m\u001b[0m\u001b[0;34m\u001b[0m\u001b[0m\n\u001b[1;32m    105\u001b[0m \u001b[0;34m\u001b[0m\u001b[0m\n",
            "\u001b[0;31mMessageError\u001b[0m: Error: credential propagation was unsuccessful"
          ]
        }
      ]
    },
    {
      "cell_type": "code",
      "source": [
        "data = pl.scan_parquet(\"transactions-t4-20.parquet\")\n",
        "(\n",
        "    data\n",
        "    .head()\n",
        "    .collect()\n",
        ")"
      ],
      "metadata": {
        "colab": {
          "base_uri": "https://localhost:8080/",
          "height": 435
        },
        "id": "EiHIQFEdgaOP",
        "outputId": "f10e5080-403c-4815-dede-c131439d2cc4"
      },
      "execution_count": 21,
      "outputs": [
        {
          "output_type": "error",
          "ename": "FileNotFoundError",
          "evalue": "No such file or directory (os error 2): transactions-t4-20.parquet\n\nThis error occurred with the following context stack:\n\t[1] 'parquet scan'\n\t[2] 'slice'\n\t[3] 'sink'\n",
          "traceback": [
            "\u001b[0;31m---------------------------------------------------------------------------\u001b[0m",
            "\u001b[0;31mFileNotFoundError\u001b[0m                         Traceback (most recent call last)",
            "\u001b[0;32m/tmp/ipython-input-470345712.py\u001b[0m in \u001b[0;36m<cell line: 0>\u001b[0;34m()\u001b[0m\n\u001b[1;32m      3\u001b[0m     \u001b[0mdata\u001b[0m\u001b[0;34m\u001b[0m\u001b[0;34m\u001b[0m\u001b[0m\n\u001b[1;32m      4\u001b[0m     \u001b[0;34m.\u001b[0m\u001b[0mhead\u001b[0m\u001b[0;34m(\u001b[0m\u001b[0;34m)\u001b[0m\u001b[0;34m\u001b[0m\u001b[0;34m\u001b[0m\u001b[0m\n\u001b[0;32m----> 5\u001b[0;31m     \u001b[0;34m.\u001b[0m\u001b[0mcollect\u001b[0m\u001b[0;34m(\u001b[0m\u001b[0;34m)\u001b[0m\u001b[0;34m\u001b[0m\u001b[0;34m\u001b[0m\u001b[0m\n\u001b[0m\u001b[1;32m      6\u001b[0m )\n",
            "\u001b[0;32m/usr/local/lib/python3.12/dist-packages/polars/_utils/deprecation.py\u001b[0m in \u001b[0;36mwrapper\u001b[0;34m(*args, **kwargs)\u001b[0m\n\u001b[1;32m     86\u001b[0m                 \u001b[0mkwargs\u001b[0m\u001b[0;34m[\u001b[0m\u001b[0;34m\"engine\"\u001b[0m\u001b[0;34m]\u001b[0m \u001b[0;34m=\u001b[0m \u001b[0;34m\"old-streaming\"\u001b[0m\u001b[0;34m\u001b[0m\u001b[0;34m\u001b[0m\u001b[0m\n\u001b[1;32m     87\u001b[0m \u001b[0;34m\u001b[0m\u001b[0m\n\u001b[0;32m---> 88\u001b[0;31m             \u001b[0;32mreturn\u001b[0m \u001b[0mfunction\u001b[0m\u001b[0;34m(\u001b[0m\u001b[0;34m*\u001b[0m\u001b[0margs\u001b[0m\u001b[0;34m,\u001b[0m \u001b[0;34m**\u001b[0m\u001b[0mkwargs\u001b[0m\u001b[0;34m)\u001b[0m\u001b[0;34m\u001b[0m\u001b[0;34m\u001b[0m\u001b[0m\n\u001b[0m\u001b[1;32m     89\u001b[0m \u001b[0;34m\u001b[0m\u001b[0m\n\u001b[1;32m     90\u001b[0m         \u001b[0mwrapper\u001b[0m\u001b[0;34m.\u001b[0m\u001b[0m__signature__\u001b[0m \u001b[0;34m=\u001b[0m \u001b[0minspect\u001b[0m\u001b[0;34m.\u001b[0m\u001b[0msignature\u001b[0m\u001b[0;34m(\u001b[0m\u001b[0mfunction\u001b[0m\u001b[0;34m)\u001b[0m  \u001b[0;31m# type: ignore[attr-defined]\u001b[0m\u001b[0;34m\u001b[0m\u001b[0;34m\u001b[0m\u001b[0m\n",
            "\u001b[0;32m/usr/local/lib/python3.12/dist-packages/polars/lazyframe/frame.py\u001b[0m in \u001b[0;36mcollect\u001b[0;34m(self, type_coercion, _type_check, predicate_pushdown, projection_pushdown, simplify_expression, slice_pushdown, comm_subplan_elim, comm_subexpr_elim, cluster_with_columns, collapse_joins, no_optimization, engine, background, _check_order, _eager, **_kwargs)\u001b[0m\n\u001b[1;32m   2186\u001b[0m         \u001b[0;31m# Only for testing purposes\u001b[0m\u001b[0;34m\u001b[0m\u001b[0;34m\u001b[0m\u001b[0m\n\u001b[1;32m   2187\u001b[0m         \u001b[0mcallback\u001b[0m \u001b[0;34m=\u001b[0m \u001b[0m_kwargs\u001b[0m\u001b[0;34m.\u001b[0m\u001b[0mget\u001b[0m\u001b[0;34m(\u001b[0m\u001b[0;34m\"post_opt_callback\"\u001b[0m\u001b[0;34m,\u001b[0m \u001b[0mcallback\u001b[0m\u001b[0;34m)\u001b[0m\u001b[0;34m\u001b[0m\u001b[0;34m\u001b[0m\u001b[0m\n\u001b[0;32m-> 2188\u001b[0;31m         \u001b[0;32mreturn\u001b[0m \u001b[0mwrap_df\u001b[0m\u001b[0;34m(\u001b[0m\u001b[0mldf\u001b[0m\u001b[0;34m.\u001b[0m\u001b[0mcollect\u001b[0m\u001b[0;34m(\u001b[0m\u001b[0mengine\u001b[0m\u001b[0;34m,\u001b[0m \u001b[0mcallback\u001b[0m\u001b[0;34m)\u001b[0m\u001b[0;34m)\u001b[0m\u001b[0;34m\u001b[0m\u001b[0;34m\u001b[0m\u001b[0m\n\u001b[0m\u001b[1;32m   2189\u001b[0m \u001b[0;34m\u001b[0m\u001b[0m\n\u001b[1;32m   2190\u001b[0m     \u001b[0;34m@\u001b[0m\u001b[0moverload\u001b[0m\u001b[0;34m\u001b[0m\u001b[0;34m\u001b[0m\u001b[0m\n",
            "\u001b[0;31mFileNotFoundError\u001b[0m: No such file or directory (os error 2): transactions-t4-20.parquet\n\nThis error occurred with the following context stack:\n\t[1] 'parquet scan'\n\t[2] 'slice'\n\t[3] 'sink'\n"
          ]
        }
      ]
    }
  ]
}